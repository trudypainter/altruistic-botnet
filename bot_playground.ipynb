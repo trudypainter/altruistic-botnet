{
 "cells": [
  {
   "cell_type": "code",
   "execution_count": 9,
   "id": "5bd4c2d7",
   "metadata": {},
   "outputs": [],
   "source": [
    "import json, sys, os"
   ]
  },
  {
   "cell_type": "code",
   "execution_count": 15,
   "id": "eeb5e4a4",
   "metadata": {},
   "outputs": [],
   "source": [
    "bot_names = [\"Pointy\",\n",
    "            \"Spikey\",\n",
    "            \"Bulby\",\n",
    "            \"Stumpy\",\n",
    "            \"Cloudy\",\n",
    "            \"Swirly\",\n",
    "            \"Boxy\"]\n",
    "bot_name = \"Pointy\""
   ]
  },
  {
   "cell_type": "code",
   "execution_count": 34,
   "id": "fe8690fd",
   "metadata": {},
   "outputs": [],
   "source": [
    "with open('data.json') as json_file:\n",
    "    data = json.load(json_file)\n",
    "    \n",
    "if not data.get(bot_name):\n",
    "    data[bot_name] = {\n",
    "        'total_sites': 0,\n",
    "        'recent_site': \"www.none.com\"\n",
    "    }\n",
    "    \n",
    "# add total sites visited\n",
    "data[bot_name][\"total_sites\"] = data[bot_name]['total_sites'] + 1\n",
    "\n",
    "# update with recent visited site\n",
    "data[bot_name]['recent_site'] = \"www.cnn.com\"\n",
    "\n",
    "#write to file\n",
    "json_string = json.dumps(data)\n",
    "with open('data.json', 'w') as outfile:\n",
    "    outfile.write(json_string)"
   ]
  },
  {
   "cell_type": "code",
   "execution_count": null,
   "id": "4291cae8",
   "metadata": {},
   "outputs": [],
   "source": []
  }
 ],
 "metadata": {
  "kernelspec": {
   "display_name": "Python 3",
   "language": "python",
   "name": "python3"
  },
  "language_info": {
   "codemirror_mode": {
    "name": "ipython",
    "version": 3
   },
   "file_extension": ".py",
   "mimetype": "text/x-python",
   "name": "python",
   "nbconvert_exporter": "python",
   "pygments_lexer": "ipython3",
   "version": "3.8.8"
  }
 },
 "nbformat": 4,
 "nbformat_minor": 5
}
